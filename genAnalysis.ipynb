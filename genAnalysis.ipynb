{
 "cells": [
  {
   "cell_type": "code",
   "execution_count": 25,
   "metadata": {},
   "outputs": [
    {
     "name": "stdout",
     "output_type": "stream",
     "text": [
      "INFO: Pandarallel will run on 64 workers.\n",
      "INFO: Pandarallel will use Memory file system to transfer data between the main process and workers.\n"
     ]
    }
   ],
   "source": [
    "''' Common import and functions  '''\n",
    "import pandas as pd\n",
    "import numpy as np\n",
    "import seaborn as sns\n",
    "from matplotlib import pyplot as plt\n",
    "import os,sys\n",
    "import re\n",
    "import sqlite3\n",
    "from glob import glob\n",
    "from pathlib import Path\n",
    "try:\n",
    "    from openbabel import pybel\n",
    "except:\n",
    "    import pybel\n",
    "import rdkit\n",
    "from rdkit import Chem, DataStructs\n",
    "from rdkit.Chem import Descriptors, rdMolDescriptors, AllChem, QED\n",
    "from rdkit.Chem import ChemicalFeatures\n",
    "from my_toolset.my_utils import get_mol,canonic_smiles\n",
    "from my_toolset.drawing_utils import show_mols\n",
    "from rdkit import RDConfig\n",
    "from pandarallel import pandarallel\n",
    "from functools import partial\n",
    "import numpy as np\n",
    "import copy\n",
    "pandarallel.initialize(nb_workers=64)"
   ]
  },
  {
   "cell_type": "markdown",
   "metadata": {},
   "source": [
    "#  CLM generated compound analysis"
   ]
  },
  {
   "cell_type": "code",
   "execution_count": 35,
   "metadata": {},
   "outputs": [
    {
     "name": "stdout",
     "output_type": "stream",
     "text": [
      "1.5/1.6:  4004\n",
      "1.1/1.2 (>2):  1029\n",
      "1.1/1.2 (>1):  1824\n",
      "1.1/1.2 (<1):  896\n"
     ]
    }
   ],
   "source": [
    "rootFolder=\"/public/home/zhangjie/Projects/MMP/pot_clm/CLModel/experiments/evaluation/test/evaluation_59\"\n",
    "# dfMMP=pd.read_csv(f\"/public/home/zhangjie/Projects/MMP/pot_clm/Data/MedChemAct_cano_TLR7/MedChemAct_cano_TLR7_MMP_CLM.csv\")\n",
    "# dfMMP[\"Source_Mol\"]=dfMMP[\"Source_Mol\"].parallel_apply(canonic_smiles)\n",
    "# dfMMP[\"Target_Mol\"]=dfMMP[\"Target_Mol\"].parallel_apply(canonic_smiles)\n",
    "\n",
    "dfGen=pd.read_csv(f\"{rootFolder}/generated_molecules.csv\")\n",
    "\n",
    "if 0:\n",
    "    res=[]\n",
    "    for idx,irow in dfGen.iterrows():\n",
    "        srcCPD=canonic_smiles(irow[\"Source_Mol\"])\n",
    "        Delta_pki=re.findall(r'(\\d+(?:\\.\\d+)?)', irow[\"Delta_pki\"])\n",
    "        Delta_pki=[float(i) for i in Delta_pki]\n",
    "        Delta_pki=np.array(Delta_pki).mean()\n",
    "        AC=0 ## test pair is Activity clif\n",
    "        if float(Delta_pki)>2:\n",
    "            AC=1\n",
    "        dfTgCPD=dfMMP[dfMMP[\"Source_Mol\"]==srcCPD]\n",
    "        for igen in range(1,51):\n",
    "            smi=irow[f\"Predicted_smi_{igen}\"]\n",
    "            if not pd.isna(smi):\n",
    "                smi=canonic_smiles(smi)\n",
    "                if smi in dfTgCPD[\"Target_Mol\"].to_list():\n",
    "                    dfTgCPD_match=dfTgCPD[dfTgCPD[\"Target_Mol\"]==smi]\n",
    "                    Delta_pki_mean=dfTgCPD_match['Delta_pki'].mean()\n",
    "                    # print(smi)\n",
    "                    res.append([srcCPD,smi,Delta_pki_mean,AC])\n",
    "                else:\n",
    "                    print(smi)\n",
    "                    res.append([srcCPD,smi,'',AC])\n",
    "                    \n",
    "    dfRes=pd.DataFrame(res, columns=[\"Source_Mol\",\"Gen_Mol\",'Delta_pki','orgAC'])\n",
    "    dfRes.to_csv(f\"{rootFolder}/generated_Analysis.csv\", index=None)\n",
    "\n",
    "if 1:\n",
    "    dfRes=dfRes[dfRes['orgAC']==1]\n",
    "    dfRes=dfRes.drop_duplicates(subset=[\"Source_Mol\",\"Gen_Mol\"])\n",
    "    dfRes_notNull=dfRes[dfRes['Delta_pki']!='']\n",
    "    print(\"1.5/1.6: \", len(dfRes)-len(dfRes_notNull))\n",
    "    dfRes_tmp=dfRes_notNull[dfRes_notNull['Delta_pki']>2]\n",
    "    print(\"1.1/1.2 (>2): \", len(dfRes_tmp))\n",
    "    dfRes_tmp=dfRes_notNull[dfRes_notNull['Delta_pki']>1]\n",
    "    print(\"1.1/1.2 (>1): \", len(dfRes_tmp))\n",
    "    dfRes_tmp=dfRes_notNull[dfRes_notNull['Delta_pki']<1]\n",
    "    print(\"1.1/1.2 (<1): \", len(dfRes_tmp))\n",
    "    \n",
    "if 0:\n",
    "    # dfRes_tmp=dfRes_notNull[dfRes_notNull['Delta_pki']>2]\n",
    "    dfRes_tmp=dfRes[dfRes['Delta_pki']=='']\n",
    "    count=0\n",
    "    for idx,irow in dfRes_tmp.iterrows():\n",
    "        png,svg=show_mols([irow[\"Source_Mol\"], irow[\"Gen_Mol\"]])\n",
    "        display(png)\n",
    "        count+=1\n",
    "        if count>10:\n",
    "            break\n",
    "        \n",
    "    \n",
    "        \n",
    "\n",
    "\n"
   ]
  }
 ],
 "metadata": {
  "kernelspec": {
   "display_name": "reinvent1",
   "language": "python",
   "name": "python3"
  },
  "language_info": {
   "codemirror_mode": {
    "name": "ipython",
    "version": 3
   },
   "file_extension": ".py",
   "mimetype": "text/x-python",
   "name": "python",
   "nbconvert_exporter": "python",
   "pygments_lexer": "ipython3",
   "version": "3.7.13"
  },
  "orig_nbformat": 4
 },
 "nbformat": 4,
 "nbformat_minor": 2
}
