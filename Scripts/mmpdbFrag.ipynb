{
 "cells": [
  {
   "cell_type": "code",
   "execution_count": 2,
   "metadata": {},
   "outputs": [
    {
     "name": "stderr",
     "output_type": "stream",
     "text": [
      "                            \r"
     ]
    },
    {
     "data": {
      "text/plain": [
       "0"
      ]
     },
     "execution_count": 2,
     "metadata": {},
     "output_type": "execute_result"
    }
   ],
   "source": [
    "import os,sys\n",
    "from mmpdblib.fragment_io import read_fragment_records\n",
    "\n",
    "\n",
    "fragmentReader=read_fragment_records(f\"/shared/data/jay.zhang/Codes/MMP/pot_clm/CLModel_v2/Test-Folder/test.fragments\")\n",
    "\n",
    "\n",
    "def frag2csv(fragments):\n",
    "    pass\n",
    "\n",
    "# os.chdir(\"/shared/data/jay.zhang/Codes/MMP/pot_clm/CLModel_v2/Test-Folder\")\n",
    "# os.system(f\"mmpdb fragment test.smi -o test.fragments\")\n",
    "\n",
    "\n",
    "\n",
    "\n"
   ]
  }
 ],
 "metadata": {
  "kernelspec": {
   "display_name": "default37",
   "language": "python",
   "name": "python3"
  },
  "language_info": {
   "codemirror_mode": {
    "name": "ipython",
    "version": 3
   },
   "file_extension": ".py",
   "mimetype": "text/x-python",
   "name": "python",
   "nbconvert_exporter": "python",
   "pygments_lexer": "ipython3",
   "version": "3.7.12"
  }
 },
 "nbformat": 4,
 "nbformat_minor": 2
}
