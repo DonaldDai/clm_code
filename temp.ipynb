{
 "cells": [
  {
   "cell_type": "code",
   "execution_count": 1,
   "id": "c85ba880-85bf-43b7-9140-9f174084f459",
   "metadata": {},
   "outputs": [],
   "source": [
    "import numpy as np"
   ]
  },
  {
   "cell_type": "code",
   "execution_count": 8,
   "id": "dabfd1ea-ffde-408e-a6d1-24720c5a1902",
   "metadata": {},
   "outputs": [],
   "source": [
    "num_samples = 10\n",
    "batch_size = 20\n",
    "a = np.asarray([num_samples] * batch_size)"
   ]
  },
  {
   "cell_type": "code",
   "execution_count": 4,
   "id": "0a3f36bf-ff97-4a0c-8d68-6811cfcabf42",
   "metadata": {},
   "outputs": [
    {
     "data": {
      "text/plain": [
       "array([10, 10, 10, 10, 10, 10, 10, 10, 10, 10, 10, 10, 10, 10, 10, 10, 10,\n",
       "       10, 10, 10])"
      ]
     },
     "execution_count": 4,
     "metadata": {},
     "output_type": "execute_result"
    }
   ],
   "source": [
    "a"
   ]
  },
  {
   "cell_type": "code",
   "execution_count": 5,
   "id": "20fea047-1188-4858-af1f-9f1661539fe7",
   "metadata": {},
   "outputs": [
    {
     "data": {
      "text/plain": [
       "[10,\n",
       " 10,\n",
       " 10,\n",
       " 10,\n",
       " 10,\n",
       " 10,\n",
       " 10,\n",
       " 10,\n",
       " 10,\n",
       " 10,\n",
       " 10,\n",
       " 10,\n",
       " 10,\n",
       " 10,\n",
       " 10,\n",
       " 10,\n",
       " 10,\n",
       " 10,\n",
       " 10,\n",
       " 10]"
      ]
     },
     "execution_count": 5,
     "metadata": {},
     "output_type": "execute_result"
    }
   ],
   "source": [
    "[num_samples] * batch_sizea"
   ]
  },
  {
   "cell_type": "code",
   "execution_count": 6,
   "id": "f4364438-afdd-4ae5-8460-6f333f305bfb",
   "metadata": {},
   "outputs": [],
   "source": [
    "import torch as torch"
   ]
  },
  {
   "cell_type": "code",
   "execution_count": 9,
   "id": "e48a60f2-5a46-42c8-af78-afcde7e82186",
   "metadata": {},
   "outputs": [],
   "source": [
    "batch_index = torch.LongTensor(range(batch_size))"
   ]
  },
  {
   "cell_type": "code",
   "execution_count": 10,
   "id": "125e5a74-3a63-4639-97bb-fd51ea41d604",
   "metadata": {},
   "outputs": [
    {
     "data": {
      "text/plain": [
       "tensor([ 0,  1,  2,  3,  4,  5,  6,  7,  8,  9, 10, 11, 12, 13, 14, 15, 16, 17,\n",
       "        18, 19])"
      ]
     },
     "execution_count": 10,
     "metadata": {},
     "output_type": "execute_result"
    }
   ],
   "source": [
    "batch_index"
   ]
  },
  {
   "cell_type": "code",
   "execution_count": 13,
   "id": "2b4197db-01e9-43a8-b192-f73c3ec514c7",
   "metadata": {},
   "outputs": [
    {
     "name": "stdout",
     "output_type": "stream",
     "text": [
      "0    1.5\n",
      "1   -2.3\n",
      "Name: diff, dtype: float64 <class 'pandas.core.series.Series'>\n"
     ]
    }
   ],
   "source": [
    "import pandas as pd\n",
    "data = {\n",
    "    'cpd1': ['A', 'B'],\n",
    "    'cpd2': ['C', 'D'],\n",
    "    'diff': [1.5, -2.3],\n",
    "    'prop': [0.5, 0.7]\n",
    "}\n",
    "\n",
    "df = pd.DataFrame(data)\n",
    "print(df['diff'], type(df['diff']))"
   ]
  },
  {
   "cell_type": "code",
   "execution_count": 14,
   "id": "4e37f436-cccb-4f6e-9b93-0b7212be1d52",
   "metadata": {},
   "outputs": [
    {
     "name": "stdout",
     "output_type": "stream",
     "text": [
      "1.5\n",
      "-2.3\n"
     ]
    }
   ],
   "source": [
    "for value in df['diff']:\n",
    "    print(value)"
   ]
  },
  {
   "cell_type": "code",
   "execution_count": 15,
   "id": "f2dc2a73-0ac4-47dc-b4b3-8967717e8b5c",
   "metadata": {},
   "outputs": [
    {
     "data": {
      "text/plain": [
       "1.5"
      ]
     },
     "execution_count": 15,
     "metadata": {},
     "output_type": "execute_result"
    }
   ],
   "source": [
    "df['diff'][0]"
   ]
  },
  {
   "cell_type": "code",
   "execution_count": 16,
   "id": "24631017-1635-494d-8438-3d6cea624e57",
   "metadata": {},
   "outputs": [
    {
     "name": "stdout",
     "output_type": "stream",
     "text": [
      "(-inf, -10.5]\n",
      "(-1.5, -1.0]\n",
      "(0.0, 0.5]\n"
     ]
    }
   ],
   "source": [
    "def find_interval(value, intervals):\n",
    "    import re\n",
    "    import math\n",
    "\n",
    "    # 遍历每个区间字符串\n",
    "    for interval in intervals:\n",
    "        # 使用正则表达式提取边界\n",
    "        bounds = re.findall(r'[\\(\\[]([^,]+),\\s*([^,\\)\\]]+)[\\)\\]]', interval)\n",
    "        if bounds:\n",
    "            lower, upper = bounds[0]\n",
    "\n",
    "            # 处理无穷大\n",
    "            if lower == '-inf':\n",
    "                lower = -math.inf\n",
    "            else:\n",
    "                lower = float(lower)\n",
    "\n",
    "            if upper == 'inf':\n",
    "                upper = math.inf\n",
    "            else:\n",
    "                upper = float(upper)\n",
    "\n",
    "            # 检查数值是否属于当前区间\n",
    "            if (lower < value <= upper) or (math.isclose(value, lower, rel_tol=1e-9) and '(' not in interval[0]):\n",
    "                return interval\n",
    "    return None\n",
    "\n",
    "# 定义区间列表\n",
    "intervals = [\n",
    "    '(-inf, -10.5]', '(-10.5, -8.5]', '(-8.5, -6.5]', '(-6.5, -4.5]', '(-4.5, -2.5]',\n",
    "    '(-2.5, -1.5]', '(-1.5, -1.0]', '(-1.0, -0.5]', '(-0.5, 0.0]', '(0.0, 0.5]',\n",
    "    '(0.5, 1.0]', '(1.0, 1.5]', '(1.5, 2.5]', '(2.5, 4.5]', '(4.5, 6.5]', '(6.5, 8.5]',\n",
    "    '(8.5, 10.5]', '(10.5, inf]'\n",
    "]\n",
    "\n",
    "# 测试函数\n",
    "print(find_interval(-11, intervals))  # 输出应该是 '(-inf, -10.5]'\n",
    "print(find_interval(-1, intervals))   # 输出应该是 '(-1.5, -1.0]'\n",
    "print(find_interval(0.25, intervals)) # 输出应该是 '(0.0, 0.5]'"
   ]
  },
  {
   "cell_type": "code",
   "execution_count": 17,
   "id": "b924d036-d5f8-4a8d-805f-2d8693653dcf",
   "metadata": {},
   "outputs": [],
   "source": [
    "data = pd.read_csv('/home/yichao/zhilian/GenAICode/Data/MMPFinised/BindingDB_All_202407_1k/BindingDB_All_202407_1k_MMP.csv', sep=\",\")"
   ]
  },
  {
   "cell_type": "code",
   "execution_count": 18,
   "id": "582d4e33-5b38-4942-a5ec-9eac69cb0ca9",
   "metadata": {},
   "outputs": [
    {
     "data": {
      "text/plain": [
       "'seq'"
      ]
     },
     "execution_count": 18,
     "metadata": {},
     "output_type": "execute_result"
    }
   ],
   "source": [
    "data['value_type'][0]"
   ]
  },
  {
   "cell_type": "code",
   "execution_count": null,
   "id": "4893c860-629e-4eca-9534-95f6e872bac9",
   "metadata": {},
   "outputs": [],
   "source": []
  }
 ],
 "metadata": {
  "kernelspec": {
   "display_name": "Python (jay)",
   "language": "python",
   "name": "drug-jay"
  },
  "language_info": {
   "codemirror_mode": {
    "name": "ipython",
    "version": 3
   },
   "file_extension": ".py",
   "mimetype": "text/x-python",
   "name": "python",
   "nbconvert_exporter": "python",
   "pygments_lexer": "ipython3",
   "version": "3.8.18"
  }
 },
 "nbformat": 4,
 "nbformat_minor": 5
}
