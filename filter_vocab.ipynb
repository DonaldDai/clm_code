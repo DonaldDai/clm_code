{
 "cells": [
  {
   "cell_type": "code",
   "execution_count": 7,
   "metadata": {},
   "outputs": [
    {
     "name": "stdout",
     "output_type": "stream",
     "text": [
      "INFO: Pandarallel will run on 64 workers.\n",
      "INFO: Pandarallel will use Memory file system to transfer data between the main process and workers.\n"
     ]
    }
   ],
   "source": [
    "import numpy as np\n",
    "import pickle as pkl\n",
    "import os\n",
    "import argparse\n",
    "import pandas as pd\n",
    "import glob\n",
    "\n",
    "import preprocess.vocabulary as mv\n",
    "import preprocess.data_preparation as pdp\n",
    "import configuration.config_default as cfgd\n",
    "import utils.log as ul\n",
    "import utils.file as uf\n",
    "import preprocess.property_change_encoder as pce\n",
    "from pathlib import Path\n",
    "from pandarallel import pandarallel\n",
    "from functools import partial\n",
    "import numpy as np\n",
    "import copy\n",
    "pandarallel.initialize(nb_workers=64)\n",
    "\n",
    "def gen_tokens(smiles_list):\n",
    "    property_condition=[]\n",
    "    # add property name before property change; save to file\n",
    "    tokenizer = mv.SMILESTokenizer()\n",
    "    vocabulary = mv.create_vocabulary(smiles_list, tokenizer=tokenizer, property_condition=property_condition)\n",
    "    tokens = vocabulary.tokens()\n",
    "    return tokens\n",
    "\n",
    "def token_inVocab(row, trainTokens):\n",
    "    smiList=[row['constantSMILES'],row['fromVarSMILES'],row['toVarSMILES']]\n",
    "    tokens=gen_tokens(smiList)\n",
    "    if set(tokens).issubset(trainTokens):\n",
    "        return 1\n",
    "    else:\n",
    "        return 0\n",
    "    \n"
   ]
  },
  {
   "cell_type": "markdown",
   "metadata": {},
   "source": [
    "##   Filter the SMILES containing token that not in train vocabulary\n",
    "- \n",
    "\n"
   ]
  },
  {
   "cell_type": "code",
   "execution_count": null,
   "metadata": {},
   "outputs": [],
   "source": [
    "vocab_path=\"/public/home/zhangjie/Projects/MMP/pot_clm/CLModel_v2/PretrainWork/ChEMBL32_Data\"\n",
    "csvFile_path=\"/public/home/zhangjie/Projects/MMP/pot_clm/CLModel_v2/FinetuningData/AIXB-3/**\"\n",
    "\n",
    "## load train vocabulary\n",
    "with open(os.path.join(vocab_path, 'vocab.pkl'), \"rb\") as input_file:\n",
    "    vocab = pkl.load(input_file)\n",
    "    trainTokens=vocab.tokens()\n",
    "token_inVocab_p=partial(token_inVocab, trainTokens=trainTokens)\n",
    "\n",
    "csvFiles=glob.glob(f\"{csvFile_path}/*_MMP.csv\",recursive=True)   \n",
    "for immpFile in csvFiles: \n",
    "    print(f\"Working on {immpFile}\")\n",
    "    df_mmp=pd.read_csv(immpFile)\n",
    "    print(f\"Orginal size: {len(df_mmp)}\")\n",
    "    df_mmp['tokenFilter']=df_mmp.parallel_apply(lambda x: token_inVocab_p(x), axis=1)\n",
    "    df_mmp=df_mmp[df_mmp['tokenFilter']==1]\n",
    "    print(f\"Final size: {len(df_mmp)}\")\n",
    "    df_mmp.to_csv(immpFile.replace('.csv', '_filtered.csv'), index=None)\n",
    "    \n",
    "    ''' preprocess for training '''\n",
    "    os.system(f\"python preprocess.py -i  {immpFile.replace('.csv', '_filtered.csv')}  -d 1\")\n"
   ]
  }
 ],
 "metadata": {
  "kernelspec": {
   "display_name": "reinvent1",
   "language": "python",
   "name": "python3"
  },
  "language_info": {
   "codemirror_mode": {
    "name": "ipython",
    "version": 3
   },
   "file_extension": ".py",
   "mimetype": "text/x-python",
   "name": "python",
   "nbconvert_exporter": "python",
   "pygments_lexer": "ipython3",
   "version": "3.7.13"
  },
  "orig_nbformat": 4
 },
 "nbformat": 4,
 "nbformat_minor": 2
}
